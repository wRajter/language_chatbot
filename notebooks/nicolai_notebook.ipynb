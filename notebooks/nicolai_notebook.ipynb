{
 "cells": [
  {
   "cell_type": "code",
   "execution_count": 1,
   "id": "bc32042d",
   "metadata": {},
   "outputs": [
    {
     "name": "stderr",
     "output_type": "stream",
     "text": [
      "[nltk_data] Downloading package stopwords to\n",
      "[nltk_data]     /Users/nicolailewis/nltk_data...\n",
      "[nltk_data]   Package stopwords is already up-to-date!\n",
      "[nltk_data] Downloading package punkt to\n",
      "[nltk_data]     /Users/nicolailewis/nltk_data...\n",
      "[nltk_data]   Package punkt is already up-to-date!\n",
      "[nltk_data] Downloading package wordnet to\n",
      "[nltk_data]     /Users/nicolailewis/nltk_data...\n",
      "[nltk_data]   Package wordnet is already up-to-date!\n",
      "[nltk_data] Downloading package omw-1.4 to\n",
      "[nltk_data]     /Users/nicolailewis/nltk_data...\n",
      "[nltk_data]   Package omw-1.4 is already up-to-date!\n"
     ]
    }
   ],
   "source": [
    "import pandas as pd\n",
    "import os\n",
    "import string\n",
    "\n",
    "import nltk\n",
    "\n",
    "nltk.download('stopwords')\n",
    "nltk.download('punkt')\n",
    "nltk.download('wordnet')\n",
    "nltk.download('omw-1.4')\n",
    "\n",
    "\n",
    "\n",
    "from nltk.corpus import stopwords \n",
    "from nltk.tokenize import word_tokenize\n",
    "from nltk.stem import WordNetLemmatizer\n",
    "import string "
   ]
  },
  {
   "cell_type": "code",
   "execution_count": 2,
   "id": "789b632e",
   "metadata": {},
   "outputs": [
    {
     "name": "stdout",
     "output_type": "stream",
     "text": [
      "/Users/nicolailewis/code/wRajter/language_chatbot/notebooks\r\n"
     ]
    }
   ],
   "source": [
    "! pwd"
   ]
  },
  {
   "cell_type": "code",
   "execution_count": 3,
   "id": "8ff0cb82",
   "metadata": {},
   "outputs": [
    {
     "data": {
      "text/html": [
       "<div>\n",
       "<style scoped>\n",
       "    .dataframe tbody tr th:only-of-type {\n",
       "        vertical-align: middle;\n",
       "    }\n",
       "\n",
       "    .dataframe tbody tr th {\n",
       "        vertical-align: top;\n",
       "    }\n",
       "\n",
       "    .dataframe thead th {\n",
       "        text-align: right;\n",
       "    }\n",
       "</style>\n",
       "<table border=\"1\" class=\"dataframe\">\n",
       "  <thead>\n",
       "    <tr style=\"text-align: right;\">\n",
       "      <th></th>\n",
       "      <th>tag</th>\n",
       "      <th>patterns</th>\n",
       "      <th>responses</th>\n",
       "    </tr>\n",
       "  </thead>\n",
       "  <tbody>\n",
       "    <tr>\n",
       "      <th>0</th>\n",
       "      <td>AI</td>\n",
       "      <td>What is AI?</td>\n",
       "      <td>Artificial Intelligence is the branch of engin...</td>\n",
       "    </tr>\n",
       "    <tr>\n",
       "      <th>1</th>\n",
       "      <td>AI</td>\n",
       "      <td>What is AI?</td>\n",
       "      <td>AI is the field of science which concerns itse...</td>\n",
       "    </tr>\n",
       "    <tr>\n",
       "      <th>2</th>\n",
       "      <td>AI</td>\n",
       "      <td>Are you sentient?</td>\n",
       "      <td>Sort of.</td>\n",
       "    </tr>\n",
       "    <tr>\n",
       "      <th>3</th>\n",
       "      <td>AI</td>\n",
       "      <td>Are you sentient?</td>\n",
       "      <td>By the strictest dictionary definition of the ...</td>\n",
       "    </tr>\n",
       "    <tr>\n",
       "      <th>4</th>\n",
       "      <td>AI</td>\n",
       "      <td>Are you sentient?</td>\n",
       "      <td>Even though I'm a construct I do have a subjec...</td>\n",
       "    </tr>\n",
       "  </tbody>\n",
       "</table>\n",
       "</div>"
      ],
      "text/plain": [
       "  tag           patterns                                          responses\n",
       "0  AI        What is AI?  Artificial Intelligence is the branch of engin...\n",
       "1  AI        What is AI?  AI is the field of science which concerns itse...\n",
       "2  AI  Are you sentient?                                           Sort of.\n",
       "3  AI  Are you sentient?  By the strictest dictionary definition of the ...\n",
       "4  AI  Are you sentient?  Even though I'm a construct I do have a subjec..."
      ]
     },
     "execution_count": 3,
     "metadata": {},
     "output_type": "execute_result"
    }
   ],
   "source": [
    "data = pd.read_csv('../language_chatbot/data/conver_df.csv')\n",
    "data.head()"
   ]
  },
  {
   "cell_type": "code",
   "execution_count": 4,
   "id": "cecc7818",
   "metadata": {},
   "outputs": [
    {
     "data": {
      "text/plain": [
       "AI            105\n",
       "psychology     93\n",
       "humor          49\n",
       "emotion        48\n",
       "literature     43\n",
       "money          31\n",
       "science        29\n",
       "greetings      25\n",
       "movies         23\n",
       "sports         20\n",
       "gossip         19\n",
       "profile        19\n",
       "food           17\n",
       "politics       16\n",
       "computers      10\n",
       "trivia         10\n",
       "history         8\n",
       "health          1\n",
       "Name: tag, dtype: int64"
      ]
     },
     "execution_count": 4,
     "metadata": {},
     "output_type": "execute_result"
    }
   ],
   "source": [
    "data['tag'].value_counts()"
   ]
  },
  {
   "cell_type": "markdown",
   "id": "f7d70ff0",
   "metadata": {},
   "source": [
    "## Preprocessing patterns column"
   ]
  },
  {
   "cell_type": "code",
   "execution_count": 5,
   "id": "6d7ab0a8",
   "metadata": {},
   "outputs": [],
   "source": [
    "X = data['patterns']"
   ]
  },
  {
   "cell_type": "code",
   "execution_count": 6,
   "id": "eb3a41fd",
   "metadata": {},
   "outputs": [
    {
     "data": {
      "text/plain": [
       "0                                            what is ai?\n",
       "1                                            what is ai?\n",
       "2                                      are you sentient?\n",
       "3                                      are you sentient?\n",
       "4                                      are you sentient?\n",
       "                             ...                        \n",
       "561    the hubble space telescope, launched into low ...\n",
       "562    what is the name of the nearest major galaxy t...\n",
       "563    god save the queen is the national anthem of w...\n",
       "564    the celtic shelf, the seabed under the celtic ...\n",
       "565    dolphins use a sense, similar to sonar, to det...\n",
       "Name: patterns, Length: 566, dtype: object"
      ]
     },
     "execution_count": 6,
     "metadata": {},
     "output_type": "execute_result"
    }
   ],
   "source": [
    "#lower\n",
    "def lower(X):\n",
    "    X = X.str.lower()\n",
    "    return X\n",
    "\n",
    "X = lower(X)\n",
    "X"
   ]
  },
  {
   "cell_type": "code",
   "execution_count": 7,
   "id": "bc643488",
   "metadata": {},
   "outputs": [
    {
     "data": {
      "text/plain": [
       "0                                             what is ai\n",
       "1                                             what is ai\n",
       "2                                       are you sentient\n",
       "3                                       are you sentient\n",
       "4                                       are you sentient\n",
       "                             ...                        \n",
       "561    the hubble space telescope launched into low e...\n",
       "562    what is the name of the nearest major galaxy t...\n",
       "563    god save the queen is the national anthem of w...\n",
       "564    the celtic shelf the seabed under the celtic s...\n",
       "565    dolphins use a sense similar to sonar to deter...\n",
       "Name: patterns, Length: 566, dtype: object"
      ]
     },
     "execution_count": 7,
     "metadata": {},
     "output_type": "execute_result"
    }
   ],
   "source": [
    "#removing punctuation and numbers\n",
    "def remove_punctuations(text):\n",
    "    for punctuation in string.punctuation:\n",
    "        text = text.replace(punctuation, '')\n",
    "    return text\n",
    "\n",
    "X = X.apply(remove_punctuations)\n",
    "X"
   ]
  },
  {
   "cell_type": "code",
   "execution_count": 8,
   "id": "04cfbbf4",
   "metadata": {},
   "outputs": [
    {
     "data": {
      "text/plain": [
       "0                                             what is ai\n",
       "1                                             what is ai\n",
       "2                                       are you sentient\n",
       "3                                       are you sentient\n",
       "4                                       are you sentient\n",
       "                             ...                        \n",
       "561    the hubble space telescope launched into low e...\n",
       "562    what is the name of the nearest major galaxy t...\n",
       "563    god save the queen is the national anthem of w...\n",
       "564    the celtic shelf the seabed under the celtic s...\n",
       "565    dolphins use a sense similar to sonar to deter...\n",
       "Name: patterns, Length: 566, dtype: object"
      ]
     },
     "execution_count": 8,
     "metadata": {},
     "output_type": "execute_result"
    }
   ],
   "source": [
    "def remove_numbers(X):\n",
    "    X = X.apply(lambda x: ''.join(word for word in x if not word.isdigit()))\n",
    "    return X\n",
    "X = remove_numbers(X)\n",
    "X"
   ]
  },
  {
   "cell_type": "code",
   "execution_count": 9,
   "id": "4b88dff1",
   "metadata": {},
   "outputs": [
    {
     "data": {
      "text/plain": [
       "0                                                   [ai]\n",
       "1                                                   [ai]\n",
       "2                                             [sentient]\n",
       "3                                             [sentient]\n",
       "4                                             [sentient]\n",
       "                             ...                        \n",
       "561    [hubble, space, telescope, launched, low, eart...\n",
       "562           [name, nearest, major, galaxy, milky, way]\n",
       "563        [god, save, queen, national, anthem, country]\n",
       "564    [celtic, shelf, seabed, celtic, sea, part, con...\n",
       "565    [dolphins, use, sense, similar, sonar, determi...\n",
       "Name: patterns, Length: 566, dtype: object"
      ]
     },
     "execution_count": 9,
     "metadata": {},
     "output_type": "execute_result"
    }
   ],
   "source": [
    "stop_words = set(stopwords.words('english')) \n",
    "\n",
    "def remove_stop_words(X):\n",
    "    word_tokens = word_tokenize(X) \n",
    "    X = [w for w in word_tokens if not w in stop_words] \n",
    "    return X\n",
    "  \n",
    "for index, value in X.iteritems(): \n",
    "    X[index] = remove_stop_words(value)\n",
    "    \n",
    "X"
   ]
  },
  {
   "cell_type": "code",
   "execution_count": 10,
   "id": "0d9643b9",
   "metadata": {},
   "outputs": [
    {
     "data": {
      "text/plain": [
       "0                                                     ai\n",
       "1                                                     ai\n",
       "2                                               sentient\n",
       "3                                               sentient\n",
       "4                                               sentient\n",
       "                             ...                        \n",
       "561    hubble space telescope launched low earth orbi...\n",
       "562                  name nearest major galaxy milky way\n",
       "563               god save queen national anthem country\n",
       "564    celtic shelf seabed celtic sea part continenta...\n",
       "565    dolphin use sense similar sonar determine loca...\n",
       "Name: patterns, Length: 566, dtype: object"
      ]
     },
     "execution_count": 10,
     "metadata": {},
     "output_type": "execute_result"
    }
   ],
   "source": [
    "lemmatizer = WordNetLemmatizer()\n",
    "\n",
    "def lemmatizing(text):\n",
    "    lem = [lemmatizer.lemmatize(word) for word in text]\n",
    "    new_text = ' '.join(lem)\n",
    "    return new_text\n",
    "\n",
    "for index, value in X.iteritems(): \n",
    "    X[index] = lemmatizing(value)\n",
    "    \n",
    "X"
   ]
  },
  {
   "cell_type": "code",
   "execution_count": null,
   "id": "37255645",
   "metadata": {},
   "outputs": [],
   "source": []
  }
 ],
 "metadata": {
  "kernelspec": {
   "display_name": "Python 3 (ipykernel)",
   "language": "python",
   "name": "python3"
  },
  "language_info": {
   "codemirror_mode": {
    "name": "ipython",
    "version": 3
   },
   "file_extension": ".py",
   "mimetype": "text/x-python",
   "name": "python",
   "nbconvert_exporter": "python",
   "pygments_lexer": "ipython3",
   "version": "3.8.13"
  },
  "toc": {
   "base_numbering": 1,
   "nav_menu": {},
   "number_sections": true,
   "sideBar": true,
   "skip_h1_title": false,
   "title_cell": "Table of Contents",
   "title_sidebar": "Contents",
   "toc_cell": false,
   "toc_position": {},
   "toc_section_display": true,
   "toc_window_display": false
  }
 },
 "nbformat": 4,
 "nbformat_minor": 5
}
