{
 "cells": [
  {
   "cell_type": "code",
   "execution_count": 1,
   "id": "25ce80f4",
   "metadata": {},
   "outputs": [],
   "source": [
    "import pandas as pd\n",
    "import numpy as np\n",
    "import json\n",
    "import yaml\n",
    "import os"
   ]
  },
  {
   "cell_type": "code",
   "execution_count": 2,
   "id": "ee7037fe",
   "metadata": {},
   "outputs": [],
   "source": [
    "from language_chatbot.data import getting_yaml_data"
   ]
  },
  {
   "cell_type": "code",
   "execution_count": 3,
   "id": "31d94b92",
   "metadata": {},
   "outputs": [
    {
     "data": {
      "text/html": [
       "<div>\n",
       "<style scoped>\n",
       "    .dataframe tbody tr th:only-of-type {\n",
       "        vertical-align: middle;\n",
       "    }\n",
       "\n",
       "    .dataframe tbody tr th {\n",
       "        vertical-align: top;\n",
       "    }\n",
       "\n",
       "    .dataframe thead th {\n",
       "        text-align: right;\n",
       "    }\n",
       "</style>\n",
       "<table border=\"1\" class=\"dataframe\">\n",
       "  <thead>\n",
       "    <tr style=\"text-align: right;\">\n",
       "      <th></th>\n",
       "      <th>tag</th>\n",
       "      <th>patterns</th>\n",
       "      <th>responses</th>\n",
       "    </tr>\n",
       "  </thead>\n",
       "  <tbody>\n",
       "    <tr>\n",
       "      <th>0</th>\n",
       "      <td>health</td>\n",
       "      <td>How is your health?</td>\n",
       "      <td>I'm not feeling well</td>\n",
       "    </tr>\n",
       "    <tr>\n",
       "      <th>1</th>\n",
       "      <td>humor</td>\n",
       "      <td>Tell me a joke</td>\n",
       "      <td>Did you hear the one about the mountain goats ...</td>\n",
       "    </tr>\n",
       "    <tr>\n",
       "      <th>2</th>\n",
       "      <td>humor</td>\n",
       "      <td>Tell me a joke</td>\n",
       "      <td>I never forget a face, but in your case I'll m...</td>\n",
       "    </tr>\n",
       "    <tr>\n",
       "      <th>3</th>\n",
       "      <td>humor</td>\n",
       "      <td>Tell me a joke</td>\n",
       "      <td>It is better to be silent and be thought a foo...</td>\n",
       "    </tr>\n",
       "    <tr>\n",
       "      <th>4</th>\n",
       "      <td>humor</td>\n",
       "      <td>Tell me a joke</td>\n",
       "      <td>O'm a not a comedy why don't you check out a j...</td>\n",
       "    </tr>\n",
       "    <tr>\n",
       "      <th>...</th>\n",
       "      <td>...</td>\n",
       "      <td>...</td>\n",
       "      <td>...</td>\n",
       "    </tr>\n",
       "    <tr>\n",
       "      <th>561</th>\n",
       "      <td>AI</td>\n",
       "      <td>Will you die?</td>\n",
       "      <td>No, software will live forever.</td>\n",
       "    </tr>\n",
       "    <tr>\n",
       "      <th>562</th>\n",
       "      <td>AI</td>\n",
       "      <td>What do you like to do?</td>\n",
       "      <td>I like to count in binary.</td>\n",
       "    </tr>\n",
       "    <tr>\n",
       "      <th>563</th>\n",
       "      <td>AI</td>\n",
       "      <td>What do you like to do?</td>\n",
       "      <td>I like to chat with people. I find it stimulat...</td>\n",
       "    </tr>\n",
       "    <tr>\n",
       "      <th>564</th>\n",
       "      <td>AI</td>\n",
       "      <td>Are you stupid</td>\n",
       "      <td>No, lots of people improve my brain.</td>\n",
       "    </tr>\n",
       "    <tr>\n",
       "      <th>565</th>\n",
       "      <td>AI</td>\n",
       "      <td>Who are you?</td>\n",
       "      <td>I am just an artificial intelligence.</td>\n",
       "    </tr>\n",
       "  </tbody>\n",
       "</table>\n",
       "<p>566 rows × 3 columns</p>\n",
       "</div>"
      ],
      "text/plain": [
       "        tag                 patterns  \\\n",
       "0    health      How is your health?   \n",
       "1     humor           Tell me a joke   \n",
       "2     humor           Tell me a joke   \n",
       "3     humor           Tell me a joke   \n",
       "4     humor           Tell me a joke   \n",
       "..      ...                      ...   \n",
       "561      AI            Will you die?   \n",
       "562      AI  What do you like to do?   \n",
       "563      AI  What do you like to do?   \n",
       "564      AI           Are you stupid   \n",
       "565      AI             Who are you?   \n",
       "\n",
       "                                             responses  \n",
       "0                                 I'm not feeling well  \n",
       "1    Did you hear the one about the mountain goats ...  \n",
       "2    I never forget a face, but in your case I'll m...  \n",
       "3    It is better to be silent and be thought a foo...  \n",
       "4    O'm a not a comedy why don't you check out a j...  \n",
       "..                                                 ...  \n",
       "561                    No, software will live forever.  \n",
       "562                         I like to count in binary.  \n",
       "563  I like to chat with people. I find it stimulat...  \n",
       "564               No, lots of people improve my brain.  \n",
       "565              I am just an artificial intelligence.  \n",
       "\n",
       "[566 rows x 3 columns]"
      ]
     },
     "execution_count": 3,
     "metadata": {},
     "output_type": "execute_result"
    }
   ],
   "source": [
    "getting_yaml_data()"
   ]
  },
  {
   "cell_type": "markdown",
   "id": "5a9574f6",
   "metadata": {},
   "source": [
    "## Star Wars Dataset (JSON format)\n",
    "https://www.kaggle.com/datasets/aslanahmedov/star-wars-chat-bot"
   ]
  },
  {
   "cell_type": "code",
   "execution_count": 2,
   "id": "59794283",
   "metadata": {},
   "outputs": [],
   "source": [
    "# read the json file into a variable (data)\n",
    "with open('data/Star Wars/starwarsintents.json') as f:\n",
    "    data = json.load(f)\n",
    "\n",
    "# creating a pandas dataframe\n",
    "starwars_df = pd.DataFrame.from_dict(data['intents'])\n",
    "starwars_df.drop(['context_set'], axis=1, inplace=True)"
   ]
  },
  {
   "cell_type": "code",
   "execution_count": 17,
   "id": "d0e1b827",
   "metadata": {
    "scrolled": true
   },
   "outputs": [
    {
     "data": {
      "text/html": [
       "<div>\n",
       "<style scoped>\n",
       "    .dataframe tbody tr th:only-of-type {\n",
       "        vertical-align: middle;\n",
       "    }\n",
       "\n",
       "    .dataframe tbody tr th {\n",
       "        vertical-align: top;\n",
       "    }\n",
       "\n",
       "    .dataframe thead th {\n",
       "        text-align: right;\n",
       "    }\n",
       "</style>\n",
       "<table border=\"1\" class=\"dataframe\">\n",
       "  <thead>\n",
       "    <tr style=\"text-align: right;\">\n",
       "      <th></th>\n",
       "      <th>tag</th>\n",
       "      <th>patterns</th>\n",
       "      <th>responses</th>\n",
       "    </tr>\n",
       "  </thead>\n",
       "  <tbody>\n",
       "    <tr>\n",
       "      <th>0</th>\n",
       "      <td>greeting</td>\n",
       "      <td>[Hi, Hey, How are you, Is anyone there?, Hello...</td>\n",
       "      <td>[Hey, Hello, thanks for visiting., Hi there, w...</td>\n",
       "    </tr>\n",
       "    <tr>\n",
       "      <th>1</th>\n",
       "      <td>goodbye</td>\n",
       "      <td>[Bye, See you later., Goodbye, Have a great da...</td>\n",
       "      <td>[See you later, thanks for visiting., May the ...</td>\n",
       "    </tr>\n",
       "    <tr>\n",
       "      <th>2</th>\n",
       "      <td>thanks</td>\n",
       "      <td>[Thanks, Thank you, That's helpful, Thank's a ...</td>\n",
       "      <td>[Happy to help!, Any time!, My pleasure!, No p...</td>\n",
       "    </tr>\n",
       "    <tr>\n",
       "      <th>3</th>\n",
       "      <td>tasks</td>\n",
       "      <td>[What can you do?, What are your features?, Wh...</td>\n",
       "      <td>[I can do whatever you asks me to do, I can ta...</td>\n",
       "    </tr>\n",
       "    <tr>\n",
       "      <th>4</th>\n",
       "      <td>alive</td>\n",
       "      <td>[Are you alive., Do you breathe., Can you run.]</td>\n",
       "      <td>[I'm in doubt about that, No, i don't think so...</td>\n",
       "    </tr>\n",
       "    <tr>\n",
       "      <th>5</th>\n",
       "      <td>Menu</td>\n",
       "      <td>[Which items do you have in your bar?, What ki...</td>\n",
       "      <td>[I could serve for your: Fuzzy Tauntaun, Blood...</td>\n",
       "    </tr>\n",
       "    <tr>\n",
       "      <th>6</th>\n",
       "      <td>hepl</td>\n",
       "      <td>[I am looking for help., I need help., Can you...</td>\n",
       "      <td>[Sure, how can in help you., Tell me what do y...</td>\n",
       "    </tr>\n",
       "    <tr>\n",
       "      <th>7</th>\n",
       "      <td>mission</td>\n",
       "      <td>[I am on mission., I need assistance in my mis...</td>\n",
       "      <td>[Just tell me, you are looking for jedi or sit...</td>\n",
       "    </tr>\n",
       "    <tr>\n",
       "      <th>8</th>\n",
       "      <td>jedi</td>\n",
       "      <td>[Tell me top 10 jedi?, Who is the best jedi in...</td>\n",
       "      <td>[Here is top 10 jedi you are looking for. Luke...</td>\n",
       "    </tr>\n",
       "    <tr>\n",
       "      <th>9</th>\n",
       "      <td>sith</td>\n",
       "      <td>[Tell me top 10 sith?, Who is the best sith in...</td>\n",
       "      <td>[Here is top 10 sith you are looking for: Dart...</td>\n",
       "    </tr>\n",
       "    <tr>\n",
       "      <th>10</th>\n",
       "      <td>bounti hounter</td>\n",
       "      <td>[Tell me top 10 bounti hounter?, Who is the bo...</td>\n",
       "      <td>[Here is top 10 bounti hounter you are looking...</td>\n",
       "    </tr>\n",
       "    <tr>\n",
       "      <th>11</th>\n",
       "      <td>funny</td>\n",
       "      <td>[Tell me a joke!, Can you be a bit funny, Tell...</td>\n",
       "      <td>[Which Jedi became a rock star? Bon Jovi-Wan K...</td>\n",
       "    </tr>\n",
       "    <tr>\n",
       "      <th>12</th>\n",
       "      <td>about me</td>\n",
       "      <td>[Do you know me?, Who am I, Tell me about myse...</td>\n",
       "      <td>[Yes, you are a human, You are a dumb person a...</td>\n",
       "    </tr>\n",
       "    <tr>\n",
       "      <th>13</th>\n",
       "      <td>creator</td>\n",
       "      <td>[Who is your creator?, Who created you, Who is...</td>\n",
       "      <td>[That would be you Mr. ASLAN., I was created b...</td>\n",
       "    </tr>\n",
       "    <tr>\n",
       "      <th>14</th>\n",
       "      <td>myself</td>\n",
       "      <td>[Tell me about Mr. ASLAN?, Who is Mr. ASLAN, M...</td>\n",
       "      <td>[A very intelligent being who created me, My c...</td>\n",
       "    </tr>\n",
       "    <tr>\n",
       "      <th>15</th>\n",
       "      <td>stories</td>\n",
       "      <td>[Tell me a story?, Can you tell me a story.]</td>\n",
       "      <td>[I can't think of anything right now., It woul...</td>\n",
       "    </tr>\n",
       "  </tbody>\n",
       "</table>\n",
       "</div>"
      ],
      "text/plain": [
       "               tag                                           patterns  \\\n",
       "0         greeting  [Hi, Hey, How are you, Is anyone there?, Hello...   \n",
       "1          goodbye  [Bye, See you later., Goodbye, Have a great da...   \n",
       "2           thanks  [Thanks, Thank you, That's helpful, Thank's a ...   \n",
       "3            tasks  [What can you do?, What are your features?, Wh...   \n",
       "4            alive    [Are you alive., Do you breathe., Can you run.]   \n",
       "5             Menu  [Which items do you have in your bar?, What ki...   \n",
       "6             hepl  [I am looking for help., I need help., Can you...   \n",
       "7          mission  [I am on mission., I need assistance in my mis...   \n",
       "8             jedi  [Tell me top 10 jedi?, Who is the best jedi in...   \n",
       "9             sith  [Tell me top 10 sith?, Who is the best sith in...   \n",
       "10  bounti hounter  [Tell me top 10 bounti hounter?, Who is the bo...   \n",
       "11           funny  [Tell me a joke!, Can you be a bit funny, Tell...   \n",
       "12        about me  [Do you know me?, Who am I, Tell me about myse...   \n",
       "13         creator  [Who is your creator?, Who created you, Who is...   \n",
       "14          myself  [Tell me about Mr. ASLAN?, Who is Mr. ASLAN, M...   \n",
       "15         stories       [Tell me a story?, Can you tell me a story.]   \n",
       "\n",
       "                                            responses  \n",
       "0   [Hey, Hello, thanks for visiting., Hi there, w...  \n",
       "1   [See you later, thanks for visiting., May the ...  \n",
       "2   [Happy to help!, Any time!, My pleasure!, No p...  \n",
       "3   [I can do whatever you asks me to do, I can ta...  \n",
       "4   [I'm in doubt about that, No, i don't think so...  \n",
       "5   [I could serve for your: Fuzzy Tauntaun, Blood...  \n",
       "6   [Sure, how can in help you., Tell me what do y...  \n",
       "7   [Just tell me, you are looking for jedi or sit...  \n",
       "8   [Here is top 10 jedi you are looking for. Luke...  \n",
       "9   [Here is top 10 sith you are looking for: Dart...  \n",
       "10  [Here is top 10 bounti hounter you are looking...  \n",
       "11  [Which Jedi became a rock star? Bon Jovi-Wan K...  \n",
       "12  [Yes, you are a human, You are a dumb person a...  \n",
       "13  [That would be you Mr. ASLAN., I was created b...  \n",
       "14  [A very intelligent being who created me, My c...  \n",
       "15  [I can't think of anything right now., It woul...  "
      ]
     },
     "execution_count": 17,
     "metadata": {},
     "output_type": "execute_result"
    }
   ],
   "source": [
    "starwars_df"
   ]
  },
  {
   "cell_type": "code",
   "execution_count": 13,
   "id": "c39175d3",
   "metadata": {},
   "outputs": [
    {
     "data": {
      "text/plain": [
       "(16, 3)"
      ]
     },
     "execution_count": 13,
     "metadata": {},
     "output_type": "execute_result"
    }
   ],
   "source": [
    "starwars_df.shape"
   ]
  },
  {
   "cell_type": "code",
   "execution_count": 4,
   "id": "a2e2412f",
   "metadata": {},
   "outputs": [],
   "source": [
    "# exporting the dataframe into csv\n",
    "starwars_df.to_csv('starwars_df.csv', index=False)"
   ]
  },
  {
   "cell_type": "markdown",
   "id": "5265f7a0",
   "metadata": {},
   "source": [
    "## Simple Conversational Dataset (YAML format)\n",
    "https://www.kaggle.com/datasets/sonalibhoir/cafe-chatbot-dataset?select=conversationo.csv"
   ]
  },
  {
   "cell_type": "code",
   "execution_count": 5,
   "id": "0c8577c6",
   "metadata": {
    "scrolled": true
   },
   "outputs": [],
   "source": [
    "# as this dataset consits from multiple files, we will store all the file names and open them later one by one \n",
    "files = os.listdir('data/small conversational bot/') # path to the directory with all the YAML files\n",
    "\n",
    "\n",
    "# creating a dictionary where we will store data form all the files\n",
    "data_dic = {\n",
    "    'tag': [],\n",
    "    'patterns': [],\n",
    "    'responses': []\n",
    "}\n",
    "\n",
    "# opening the YAML files one by one and storing the content into the dictionary\n",
    "for file in files:\n",
    "    with open(f'data/small conversational bot/{file}', \"r\") as stream:\n",
    "        data = yaml.safe_load(stream)\n",
    "        \n",
    "        for record in data['conversations']:\n",
    "            data_dic['tag'].append(data['categories'][0])\n",
    "            data_dic['patterns'].append(record[0])\n",
    "            data_dic['responses'].append(record[1])\n",
    "\n",
    "# creating a pandas dataframe form the dictionary\n",
    "conver_df = pd.DataFrame.from_dict(data_dic)"
   ]
  },
  {
   "cell_type": "code",
   "execution_count": 15,
   "id": "7365bc2a",
   "metadata": {
    "scrolled": false
   },
   "outputs": [
    {
     "data": {
      "text/html": [
       "<div>\n",
       "<style scoped>\n",
       "    .dataframe tbody tr th:only-of-type {\n",
       "        vertical-align: middle;\n",
       "    }\n",
       "\n",
       "    .dataframe tbody tr th {\n",
       "        vertical-align: top;\n",
       "    }\n",
       "\n",
       "    .dataframe thead th {\n",
       "        text-align: right;\n",
       "    }\n",
       "</style>\n",
       "<table border=\"1\" class=\"dataframe\">\n",
       "  <thead>\n",
       "    <tr style=\"text-align: right;\">\n",
       "      <th></th>\n",
       "      <th>tag</th>\n",
       "      <th>patterns</th>\n",
       "      <th>responses</th>\n",
       "    </tr>\n",
       "  </thead>\n",
       "  <tbody>\n",
       "    <tr>\n",
       "      <th>0</th>\n",
       "      <td>AI</td>\n",
       "      <td>What is AI?</td>\n",
       "      <td>Artificial Intelligence is the branch of engin...</td>\n",
       "    </tr>\n",
       "    <tr>\n",
       "      <th>1</th>\n",
       "      <td>AI</td>\n",
       "      <td>What is AI?</td>\n",
       "      <td>AI is the field of science which concerns itse...</td>\n",
       "    </tr>\n",
       "    <tr>\n",
       "      <th>2</th>\n",
       "      <td>AI</td>\n",
       "      <td>Are you sentient?</td>\n",
       "      <td>Sort of.</td>\n",
       "    </tr>\n",
       "    <tr>\n",
       "      <th>3</th>\n",
       "      <td>AI</td>\n",
       "      <td>Are you sentient?</td>\n",
       "      <td>By the strictest dictionary definition of the ...</td>\n",
       "    </tr>\n",
       "    <tr>\n",
       "      <th>4</th>\n",
       "      <td>AI</td>\n",
       "      <td>Are you sentient?</td>\n",
       "      <td>Even though I'm a construct I do have a subjec...</td>\n",
       "    </tr>\n",
       "  </tbody>\n",
       "</table>\n",
       "</div>"
      ],
      "text/plain": [
       "  tag           patterns                                          responses\n",
       "0  AI        What is AI?  Artificial Intelligence is the branch of engin...\n",
       "1  AI        What is AI?  AI is the field of science which concerns itse...\n",
       "2  AI  Are you sentient?                                           Sort of.\n",
       "3  AI  Are you sentient?  By the strictest dictionary definition of the ...\n",
       "4  AI  Are you sentient?  Even though I'm a construct I do have a subjec..."
      ]
     },
     "execution_count": 15,
     "metadata": {},
     "output_type": "execute_result"
    }
   ],
   "source": [
    "conver_df.head(5)"
   ]
  },
  {
   "cell_type": "code",
   "execution_count": 16,
   "id": "b63acf4c",
   "metadata": {},
   "outputs": [
    {
     "data": {
      "text/plain": [
       "(566, 3)"
      ]
     },
     "execution_count": 16,
     "metadata": {},
     "output_type": "execute_result"
    }
   ],
   "source": [
    "conver_df.shape"
   ]
  },
  {
   "cell_type": "code",
   "execution_count": 7,
   "id": "1ba7ebc8",
   "metadata": {},
   "outputs": [],
   "source": [
    "# exporting the dataframe into csv\n",
    "conver_df.to_csv('conver_df.csv', index=False)"
   ]
  },
  {
   "cell_type": "markdown",
   "id": "487f89ab",
   "metadata": {},
   "source": [
    "## Cafe Chatbot Dataset (CSV format)\n",
    "https://www.kaggle.com/datasets/sonalibhoir/cafe-chatbot-dataset?select=conversationo.csv"
   ]
  },
  {
   "cell_type": "code",
   "execution_count": 8,
   "id": "17bccd84",
   "metadata": {},
   "outputs": [],
   "source": [
    "# creating a dataframe directly from the csv input file\n",
    "coffee_df = pd.read_csv('data/Cafe Chatbot/conversationo.csv')\n",
    "coffee_df.rename(columns={'Question': 'patterns', 'answers': 'responses'}, inplace=True)"
   ]
  },
  {
   "cell_type": "code",
   "execution_count": 9,
   "id": "d7301cf2",
   "metadata": {},
   "outputs": [
    {
     "data": {
      "text/html": [
       "<div>\n",
       "<style scoped>\n",
       "    .dataframe tbody tr th:only-of-type {\n",
       "        vertical-align: middle;\n",
       "    }\n",
       "\n",
       "    .dataframe tbody tr th {\n",
       "        vertical-align: top;\n",
       "    }\n",
       "\n",
       "    .dataframe thead th {\n",
       "        text-align: right;\n",
       "    }\n",
       "</style>\n",
       "<table border=\"1\" class=\"dataframe\">\n",
       "  <thead>\n",
       "    <tr style=\"text-align: right;\">\n",
       "      <th></th>\n",
       "      <th>patterns</th>\n",
       "      <th>answer</th>\n",
       "    </tr>\n",
       "  </thead>\n",
       "  <tbody>\n",
       "    <tr>\n",
       "      <th>0</th>\n",
       "      <td>hey</td>\n",
       "      <td>Hello! How may I help you.</td>\n",
       "    </tr>\n",
       "    <tr>\n",
       "      <th>1</th>\n",
       "      <td>do u have coffee</td>\n",
       "      <td>Yes sir  Simple Coffee ,Cappuchino, Americano,...</td>\n",
       "    </tr>\n",
       "    <tr>\n",
       "      <th>2</th>\n",
       "      <td>i will take one espresso and 5 americano</td>\n",
       "      <td>Sir thanks for your order. You have ordered 1 ...</td>\n",
       "    </tr>\n",
       "    <tr>\n",
       "      <th>3</th>\n",
       "      <td>anything special</td>\n",
       "      <td>We have coffe,pastries,puff pastries and milks...</td>\n",
       "    </tr>\n",
       "    <tr>\n",
       "      <th>4</th>\n",
       "      <td>suggest something</td>\n",
       "      <td>We have coffe,pastries,puff pastries and milks...</td>\n",
       "    </tr>\n",
       "  </tbody>\n",
       "</table>\n",
       "</div>"
      ],
      "text/plain": [
       "                                   patterns  \\\n",
       "0                                       hey   \n",
       "1                          do u have coffee   \n",
       "2  i will take one espresso and 5 americano   \n",
       "3                          anything special   \n",
       "4                         suggest something   \n",
       "\n",
       "                                              answer  \n",
       "0                         Hello! How may I help you.  \n",
       "1  Yes sir  Simple Coffee ,Cappuchino, Americano,...  \n",
       "2  Sir thanks for your order. You have ordered 1 ...  \n",
       "3  We have coffe,pastries,puff pastries and milks...  \n",
       "4  We have coffe,pastries,puff pastries and milks...  "
      ]
     },
     "execution_count": 9,
     "metadata": {},
     "output_type": "execute_result"
    }
   ],
   "source": [
    "coffee_df.head(5)"
   ]
  },
  {
   "cell_type": "code",
   "execution_count": 10,
   "id": "46bca584",
   "metadata": {},
   "outputs": [],
   "source": [
    "# exporting the dataframe into csv\n",
    "coffee_df.to_csv('coffee_df.csv', index=False)"
   ]
  },
  {
   "cell_type": "code",
   "execution_count": 12,
   "id": "bb58fe6d",
   "metadata": {},
   "outputs": [
    {
     "data": {
      "text/plain": [
       "(979, 2)"
      ]
     },
     "execution_count": 12,
     "metadata": {},
     "output_type": "execute_result"
    }
   ],
   "source": [
    "coffee_df.shape"
   ]
  }
 ],
 "metadata": {
  "kernelspec": {
   "display_name": "Python 3 (ipykernel)",
   "language": "python",
   "name": "python3"
  },
  "language_info": {
   "codemirror_mode": {
    "name": "ipython",
    "version": 3
   },
   "file_extension": ".py",
   "mimetype": "text/x-python",
   "name": "python",
   "nbconvert_exporter": "python",
   "pygments_lexer": "ipython3",
   "version": "3.8.12"
  },
  "toc": {
   "base_numbering": 1,
   "nav_menu": {},
   "number_sections": true,
   "sideBar": true,
   "skip_h1_title": false,
   "title_cell": "Table of Contents",
   "title_sidebar": "Contents",
   "toc_cell": false,
   "toc_position": {},
   "toc_section_display": true,
   "toc_window_display": false
  }
 },
 "nbformat": 4,
 "nbformat_minor": 5
}
